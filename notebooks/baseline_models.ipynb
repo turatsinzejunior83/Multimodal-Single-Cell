{
  "metadata": {
    "kernelspec": {
      "name": "python",
      "display_name": "Python (Pyodide)",
      "language": "python"
    },
    "language_info": {
      "name": ""
    }
  },
  "nbformat_minor": 4,
  "nbformat": 4,
  "cells": [
    {
      "cell_type": "code",
      "source": "\n# Split Data\nX_train, X_val, y_train, y_val = train_test_split(train_inputs, train_targets, test_size=0.2, random_state=42)\n\n# Linear Regression\nlr = LinearRegression()\nlr.fit(X_train, y_train)\nlr_preds = lr.predict(X_val)\nlr_r2 = r2_score(y_val, lr_preds)\nprint(f'Linear Regression R^2 Score: {lr_r2}')\n\n# Random Forest\nrf = RandomForestRegressor(n_estimators=100, random_state=42)\nrf.fit(X_train, y_train)\nrf_preds = rf.predict(X_val)\nrf_r2 = r2_score(y_val, rf_preds)\nprint(f'Random Forest R^2 Score: {rf_r2}')\n\n# Save models\nimport joblib\njoblib.dump(lr, '../models/linear_regression.pkl')\njoblib.dump(rf, '../models/random_forest.pkl')\n\nprint(\"Baseline model training complete.\")\n",
      "metadata": {
        "trusted": true
      },
      "outputs": [],
      "execution_count": null
    }
  ]
}