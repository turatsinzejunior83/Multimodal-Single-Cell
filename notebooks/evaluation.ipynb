{
  "metadata": {
    "kernelspec": {
      "name": "python",
      "display_name": "Python (Pyodide)",
      "language": "python"
    },
    "language_info": {
      "name": ""
    }
  },
  "nbformat_minor": 4,
  "nbformat": 4,
  "cells": [
    {
      "cell_type": "code",
      "source": "\n\nThis notebook will load the trained models and evaluate them on the test set.\n\n\n# Evaluation\n\nThis notebook loads the trained models and evaluates their performance on the test dataset.\n\n```python\nimport numpy as np\nimport joblib\nimport tensorflow as tf\nfrom sklearn.metrics import r2_score\n\n# Load Preprocessed Data\ntest_inputs = np.load('../data/test_inputs_preprocessed.npy')\ntrain_targets = np.load('../data/train_targets.npy')  # Assuming you have the actual targets for evaluation\n\n# Load Models\nlr = joblib.load('../models/linear_regression.pkl')\nrf = joblib.load('../models/random_forest.pkl')\nlstm_model = tf.keras.models.load_model('../models/lstm_model.h5')\ntransformer_model = tf.keras.models.load_model('../models/transformer_model.h5')\n\n# Reshape test data for LSTM and Transformer\ntest_inputs_lstm = test_inputs.reshape((test_inputs.shape[0], test_inputs.shape[1], 1))\n\n# Predict with Linear Regression\nlr_preds = lr.predict(test_inputs)\n\n# Predict with Random Forest\nrf_preds = rf.predict(test_inputs)\n\n# Predict with LSTM\nlstm_preds = lstm_model.predict(test_inputs_lstm)\n\n# Predict with Transformer\ntransformer_preds = transformer_model.predict(test_inputs_lstm)\n\n# Here, you would typically have ground truth for the test set to calculate R^2\n# Since we are assuming the test set is unseen, we will skip R^2 calculation for test predictions\n# However, for demonstration, let's assume we have some dummy ground truth\ndummy_ground_truth = np.random.rand(test_inputs.shape[0], lr_preds.shape[1])\n\n# Evaluate predictions (this is just for demonstration)\nlr_r2_test = r2_score(dummy_ground_truth, lr_preds)\nrf_r2_test = r2_score(dummy_ground_truth, rf_preds)\nlstm_r2_test = r2_score(dummy_ground_truth, lstm_preds)\ntransformer_r2_test = r2_score(dummy_ground_truth, transformer_preds)\n\nprint(f'Linear Regression Test R^2 Score: {lr_r2_test}')\nprint(f'Random Forest Test R^2 Score: {rf_r2_test}')\nprint(f'LSTM Test R^2 Score: {lstm_r2_test}')\nprint(f'Transformer Test R^2 Score: {transformer_r2_test}')\n\n# Save Predictions\nnp.save('../predictions/lr_preds.npy', lr_preds)\nnp.save('../predictions/rf_preds.npy', rf_preds)\nnp.save('../predictions/lstm_preds.npy', lstm_preds)\nnp.save('../predictions/transformer_preds.npy', transformer_preds)\n\nprint(\"Evaluation complete.\")\n",
      "metadata": {
        "trusted": true
      },
      "outputs": [],
      "execution_count": null
    }
  ]
}